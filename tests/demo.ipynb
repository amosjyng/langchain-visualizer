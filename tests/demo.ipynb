{
 "cells": [
  {
   "cell_type": "markdown",
   "id": "e9d8f40d-0f6a-4d5a-ba9d-f78a8666fd3f",
   "metadata": {},
   "source": [
    "# Jupyter notebook support\n",
    "\n",
    "This demonstrates usage of the visualizer inside a Jupyter notebook. **Make sure to import the `visualize` function from `langchain_visualizer.jupyter` instead.**\n",
    "\n",
    "As noted in the example, you can customize the width and height of the displayed window if you so wish to."
   ]
  },
  {
   "cell_type": "code",
   "execution_count": 1,
   "id": "3192e422-2174-4129-a0a7-40a03c068136",
   "metadata": {
    "tags": []
   },
   "outputs": [
    {
     "name": "stderr",
     "output_type": "stream",
     "text": [
      "/home/amos/.cache/pypoetry/virtualenvs/langchain-visualizer-LErXDBzh-py3.11/lib/python3.11/site-packages/tqdm/auto.py:21: TqdmWarning: IProgress not found. Please update jupyter and ipywidgets. See https://ipywidgets.readthedocs.io/en/stable/user_install.html\n",
      "  from .autonotebook import tqdm as notebook_tqdm\n"
     ]
    },
    {
     "name": "stdout",
     "output_type": "stream",
     "text": [
      "2023-03-29 17:39.54.135905 [info     ] Trace: http://127.0.0.1:8935/traces/01GWP1GARQ5CNVHHQP2JNRZ92E\n",
      "\n",
      "\n",
      "\u001b[1m> Entering new AgentExecutor chain...\u001b[0m\n",
      "Rendering http://127.0.0.1:8935/traces/01GWP1GARQ5CNVHHQP2JNRZ92E in notebook\n"
     ]
    },
    {
     "data": {
      "text/html": [
       "\n",
       "        <iframe\n",
       "            width=\"1000\"\n",
       "            height=\"500\"\n",
       "            src=\"http://127.0.0.1:8935/traces/01GWP1GARQ5CNVHHQP2JNRZ92E\"\n",
       "            frameborder=\"0\"\n",
       "            allowfullscreen\n",
       "            \n",
       "        ></iframe>\n",
       "        "
      ],
      "text/plain": [
       "<IPython.lib.display.IFrame at 0x7fc5b4de1810>"
      ]
     },
     "execution_count": 1,
     "metadata": {},
     "output_type": "execute_result"
    },
    {
     "name": "stdout",
     "output_type": "stream",
     "text": [
      "\u001b[32;1m\u001b[1;3m I need to find out who Olivia Wilde's boyfriend is and then calculate his age raised to the 0.23 power.\n",
      "Action: Search\n",
      "Action Input: \"Olivia Wilde boyfriend\"\u001b[0m\n",
      "Observation: \u001b[36;1m\u001b[1;3mSudeikis and Wilde's relationship ended in November 2020. Wilde was publicly served with court documents regarding child custody while she was presenting Don't Worry Darling at CinemaCon 2022. In January 2021, Wilde began dating singer Harry Styles after meeting during the filming of Don't Worry Darling.\u001b[0m\n",
      "Thought:\u001b[32;1m\u001b[1;3m I need to find out Harry Styles' age.\n",
      "Action: Search\n",
      "Action Input: \"Harry Styles age\"\u001b[0m\n",
      "Observation: \u001b[36;1m\u001b[1;3m29 years\u001b[0m\n",
      "Thought:\u001b[32;1m\u001b[1;3m I need to calculate 29 raised to the 0.23 power.\n",
      "Action: Calculator\n",
      "Action Input: 29^0.23\u001b[0m\n",
      "Observation: \u001b[33;1m\u001b[1;3mAnswer: 2.169459462491557\n",
      "\u001b[0m\n",
      "Thought:\u001b[32;1m\u001b[1;3m I now know the final answer.\n",
      "Final Answer: Harry Styles, Olivia Wilde's boyfriend, is 29 years old and his age raised to the 0.23 power is 2.169459462491557.\u001b[0m\n",
      "\n",
      "\u001b[1m> Finished chain.\u001b[0m\n",
      "Harry Styles, Olivia Wilde's boyfriend, is 29 years old and his age raised to the 0.23 power is 2.169459462491557.\n"
     ]
    }
   ],
   "source": [
    "from langchain_visualizer.jupyter import visualize\n",
    "from langchain.agents import initialize_agent, load_tools\n",
    "from langchain.llms import OpenAI\n",
    "\n",
    "\n",
    "async def search_agent_demo():\n",
    "    llm = OpenAI(temperature=0)\n",
    "    tools = load_tools([\"serpapi\", \"llm-math\"], llm=llm)\n",
    "    agent = initialize_agent(\n",
    "        tools, llm, agent=\"zero-shot-react-description\", verbose=True\n",
    "    )\n",
    "    return agent.run(\n",
    "        \"Who is Olivia Wilde's boyfriend? What is his current age raised to the 0.23 \"\n",
    "        \"power?\"\n",
    "    )\n",
    "\n",
    "# you don't have to specify width and height\n",
    "# but if you do, you can change the size of the rendered window\n",
    "visualize(search_agent_demo, width=1000, height=500)"
   ]
  }
 ],
 "metadata": {
  "kernelspec": {
   "display_name": "Python 3 (ipykernel)",
   "language": "python",
   "name": "python3"
  },
  "language_info": {
   "codemirror_mode": {
    "name": "ipython",
    "version": 3
   },
   "file_extension": ".py",
   "mimetype": "text/x-python",
   "name": "python",
   "nbconvert_exporter": "python",
   "pygments_lexer": "ipython3",
   "version": "3.11.1"
  }
 },
 "nbformat": 4,
 "nbformat_minor": 5
}
